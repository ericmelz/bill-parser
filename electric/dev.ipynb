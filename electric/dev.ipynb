{
 "cells": [
  {
   "cell_type": "markdown",
   "id": "5a282a74-7ce7-4b02-92a7-8891c4942721",
   "metadata": {},
   "source": [
    "# Electric Bill Parser Development"
   ]
  },
  {
   "cell_type": "code",
   "execution_count": 39,
   "id": "53b4bcb8-e225-4729-922d-d0f0bcfb1693",
   "metadata": {},
   "outputs": [],
   "source": [
    "from dataclasses import dataclass\n",
    "from datetime import datetime\n",
    "from pathlib import Path\n",
    "from typing import Optional\n",
    "import csv\n",
    "import pdfplumber\n",
    "import re\n",
    "import os\n",
    "\n",
    "@dataclass\n",
    "class BillLineItem:\n",
    "    bill_date: str\n",
    "    category: str\n",
    "    description: str\n",
    "    quantity: Optional[float] = None\n",
    "    unit: Optional[str] = None\n",
    "    rate: Optional[float] = None\n",
    "    amount: float = 0.0\n",
    "    \n",
    "    def to_csv_row(self):\n",
    "        return [self.bill_date, self.category, self.description, \n",
    "                self.quantity or '', self.unit or '', self.rate or '', self.amount]\n",
    "\n",
    "def extract_bill_date(pages):\n",
    "    \"\"\"Extract bill date from PDF text\"\"\"\n",
    "    all_text = ' '.join(pages)\n",
    "    # Try common date patterns\n",
    "    patterns = [\n",
    "        r'\\d{12} (\\d{2}/\\d{2}/\\d{2})'\n",
    "    ]\n",
    "    \n",
    "    for pattern in patterns:\n",
    "        matches = re.findall(pattern, all_text)\n",
    "        if matches:\n",
    "            return matches[0]\n",
    "    \n",
    "    # Fallback: extract from filename if available\n",
    "    filename_match = re.search(r'(\\d{4})_(\\d{2})_(\\d{2})', file)\n",
    "    if filename_match:\n",
    "        raise Exception(\"warning: we matched filename match instead of date pattern.  fix this code\")\n",
    "        year, month, day = filename_match.groups()\n",
    "        return f\"{month}/{day}/{year}\"\n",
    "    \n",
    "    return \"Unknown\"\n",
    "\n",
    "def parse_pages(pages):\n",
    "    \"\"\"Unified function to extract all line items from electric bill\"\"\"\n",
    "    bill_date = extract_bill_date(pages)\n",
    "    line_items = []\n",
    "    all_text = ' '.join(pages)\n",
    "    \n",
    "    # Delivery usage charges (Time of Use)\n",
    "    delivery_matches = re.findall(r'(Onpeak|Midpeak|Offpeak|Superoffpeak) (\\d{1,3}(?:,\\d{3})*)kWhx\\$(\\d+\\.\\d+) \\$(\\d+.\\d+)', all_text)\n",
    "    for tou, kwh, rate, amount in delivery_matches:\n",
    "        line_items.append(BillLineItem(\n",
    "            bill_date=bill_date,\n",
    "            category=\"Delivery\",\n",
    "            description=f\"{tou} Usage\",\n",
    "            quantity=float(kwh.replace(',', '')),\n",
    "            unit=\"kWh\",\n",
    "            rate=float(rate),\n",
    "            amount=float(amount)\n",
    "        ))\n",
    "    \n",
    "    # Basic charge\n",
    "    basic_matches = re.findall(r'(Basiccharge) (\\d+)daysx\\$(\\d\\.\\d+) \\$(\\d.\\d+)', all_text)\n",
    "    for _, days, rate, amount in basic_matches:\n",
    "        line_items.append(BillLineItem(\n",
    "            bill_date=bill_date,\n",
    "            category=\"Delivery Surcharge\",\n",
    "            description=\"Basic Charge\",\n",
    "            quantity=float(days),\n",
    "            unit=\"days\",\n",
    "            rate=float(rate),\n",
    "            amount=float(amount)\n",
    "        ))\n",
    "    \n",
    "    # Delivery surcharges\n",
    "    surcharge_matches = re.findall(r'(Baselinecredit|PCIA|CCAwildfirefundcharge|CTC|Fixedrecoverycharge) (\\d{1,3}(?:,\\d{3})*)kWhx(-?\\$\\d.\\d+) (-?\\$\\d+.\\d+)', all_text)\n",
    "    for charge_type, kwh, rate, amount in surcharge_matches:\n",
    "        line_items.append(BillLineItem(\n",
    "            bill_date=bill_date,\n",
    "            category=\"Delivery Surcharge\",\n",
    "            description=charge_type.replace('charge', ' charge').replace('credit', ' credit'),\n",
    "            quantity=float(kwh.replace(',', '')),\n",
    "            unit=\"kWh\",\n",
    "            rate=float(rate.replace('$', '')),\n",
    "            amount=float(amount.replace('$', ''))\n",
    "        ))\n",
    "\n",
    "    # Generation municipal surcharge\n",
    "    municipal_matches = re.findall(r'(GenerationMunicipalSurcharge) \\$(\\d+.\\d+)', all_text)\n",
    "    for charge_type, amount in municipal_matches:\n",
    "        line_items.append(BillLineItem(\n",
    "            bill_date=bill_date,\n",
    "            category=\"Generation Surcharge\",\n",
    "            description=\"Municipal Surcharge\",\n",
    "            amount=float(amount)\n",
    "        ))\n",
    "         \n",
    "    # Generation CA Climate Credit\n",
    "    municipal_matches = re.findall(r'(CAClimateCredit) (-\\$\\d+.\\d+)', all_text)\n",
    "    for charge_type, amount in municipal_matches:\n",
    "        line_items.append(BillLineItem(\n",
    "            bill_date=bill_date,\n",
    "            category=\"Generation Surcharge\",\n",
    "            description=\"CA Climate Credit\",\n",
    "            amount=float(amount.replace('$', ''))\n",
    "        ))\n",
    "\n",
    "    # Generation usage charges\n",
    "    gen_matches = re.findall(r'100%GreenPower-(.*) (\\d+.\\d+)kWh@(\\d+.\\d+) \\$(\\d+.\\d+)', all_text)    \n",
    "    for tou, kwh, rate, amount in gen_matches:\n",
    "        line_items.append(BillLineItem(\n",
    "            bill_date=bill_date,\n",
    "            category=\"Generation\",\n",
    "            description=f\"Green Power {tou}\",\n",
    "            quantity=float(kwh),\n",
    "            unit=\"kWh\",\n",
    "            rate=float(rate),\n",
    "            amount=float(amount)\n",
    "        ))\n",
    "         \n",
    "    # Energy surcharge\n",
    "    energy_matches = re.findall(r'(EnergySurcharge) \\$(\\d+.\\d+)', all_text)\n",
    "    for charge_type, amount in energy_matches:\n",
    "        line_items.append(BillLineItem(\n",
    "            bill_date=bill_date,\n",
    "            category=\"Generation Surcharge\",\n",
    "            description=\"Energy Surcharge\",\n",
    "            amount=float(amount)\n",
    "        ))\n",
    "         \n",
    "    return line_items\n",
    "         \n",
    "\n",
    "def get_pages(file):\n",
    "    pages = []\n",
    "    with pdfplumber.open(file) as pdf:\n",
    "        for page in pdf.pages:\n",
    "            text = page.extract_text()\n",
    "            pages.append(text)\n",
    "\n",
    "    return pages\n",
    "\n",
    "def parse_file(file):\n",
    "    pages = get_pages(file)\n",
    "    line_items = parse_pages(pages)\n",
    "    return line_items\n",
    "\n",
    "def write_to_csv(line_items, filename=\"electric_bill.csv\"):\n",
    "    headers = ['bill_date', 'category', 'description', 'quantity', 'unit', 'rate', 'amount']\n",
    "    \n",
    "    with open(filename, 'w', newline='') as csvfile:\n",
    "        writer = csv.writer(csvfile)\n",
    "        writer.writerow(headers)\n",
    "        for item in line_items:\n",
    "            writer.writerow(item.to_csv_row())\n",
    "    \n",
    "def parse_files(files, dest_dir):\n",
    "    all_line_items = []\n",
    "    for src_file in files:\n",
    "        dest_file = Path(dest_dir) / Path(Path(src_file).stem).with_suffix('.csv')\n",
    "        line_items = parse_file(src_file)\n",
    "        all_line_items.extend(line_items)\n",
    "        write_to_csv(line_items, dest_file)\n",
    "        print(f\"Wrote {dest_file}, {len(line_items)} lines, Total amount: ${sum(item.amount for item in line_items):.2f}\")\n",
    "    dest_file = Path(dest_dir) / Path(\"electric_bills.csv\")\n",
    "    write_to_csv(all_line_items, dest_file)\n",
    "    print(f\"Wrote {dest_file}, {len(all_line_items)} lines, Total amount: ${sum(item.amount for item in all_line_items):.2f}\")\n",
    "            \n",
    "        "
   ]
  },
  {
   "cell_type": "code",
   "execution_count": 40,
   "id": "e27c9007-5262-4661-8dcd-1b96cfa28d96",
   "metadata": {},
   "outputs": [],
   "source": [
    "src_dir = \"/Users/ericmelz/Data/Bills/Electric/PDF/2025\" \n",
    "files = []\n",
    "for file in os.listdir(src_dir):\n",
    "    files.append(Path(src_dir) / file)\n",
    "dest_dir = \"/Users/ericmelz/Data/Bills/Electric/CSV\""
   ]
  },
  {
   "cell_type": "code",
   "execution_count": 41,
   "id": "1ce44b65-69f9-4248-9f67-c23a11a51b9a",
   "metadata": {},
   "outputs": [],
   "source": [
    "files = [ Path(src_dir) / \"2025_04_07.pdf\" ]"
   ]
  },
  {
   "cell_type": "code",
   "execution_count": 42,
   "id": "67a8f9f3-4868-4f87-9f9b-9fdc1562de4a",
   "metadata": {},
   "outputs": [
    {
     "name": "stdout",
     "output_type": "stream",
     "text": [
      "Wrote /Users/ericmelz/Data/Bills/Electric/CSV/2025_04_07.csv, 15 lines, Total amount: $754.42\n",
      "Wrote /Users/ericmelz/Data/Bills/Electric/CSV/electric_bills.csv, 15 lines, Total amount: $754.42\n"
     ]
    }
   ],
   "source": [
    "parse_files(files, dest_dir)"
   ]
  },
  {
   "cell_type": "code",
   "execution_count": 36,
   "id": "595d8160-6dae-47a3-aea8-943e0e1f6bc6",
   "metadata": {},
   "outputs": [],
   "source": [
    "pages = get_pages(files[0])"
   ]
  },
  {
   "cell_type": "code",
   "execution_count": 37,
   "id": "4532bbc6-d14b-407a-9899-7c9cc50b87e7",
   "metadata": {},
   "outputs": [],
   "source": [
    "page4 = pages[4]\n",
    "page5 = pages[5]"
   ]
  },
  {
   "cell_type": "code",
   "execution_count": 38,
   "id": "469a4c70-5317-443d-a1bc-da58493098e0",
   "metadata": {},
   "outputs": [
    {
     "data": {
      "text/plain": [
       "'MELZ,ERIC/ Page5of8\\nDetails of your new charges\\n(continued)\\nOffpeak 899kWhx$0.30272 $272.15\\nSuperoffpeak 762kWhx$0.27638 $210.60\\nCAClimateCredit -$56.00\\nCCAcost responsibility surcharge Your Delivery charges include:\\nPCIA 1,935kWhx-$0.01227 -$23.74 $47.14transmissioncharges\\nCCAwildfirefundcharge 1,935kWhx$0.00595 $11.51 ·$410.80distributioncharges\\nCTC 1,935kWhx-$0.00058 -$1.12 ·-$0.02nucleardecommissioning\\n·charges\\nOther charges or credits $68.61publicpurposeprograms\\nFixedrecoverycharge 1,935kWhx$0.00198 $3.83 ·charge\\nGenerationMunicipalSurcharge $1.92 $18.97newsystemgeneration\\n·charge\\nSubtotalofyournewcharges $483.45\\nYour new charges $483.45\\nYour overall energy charges include:\\n$4.69franchisefees\\n·\\nAdditional information:\\nServicevoltage:240volts\\n·GenerationMunicipalSurcharge\\n·(GMS)factor:0.009261\\n2018VintageCRS\\n·\\nRate Identification Number - RIN SUM1\\nUSCA-SCXX-0500-0000\\nInthefuture,youmightusetheRateIdentificationNumber(RIN)toprogramsmartdeviceslikesmartthermostats,\\nEVchargers,orenergymanagementsystemsoncethemanufacturerhasenableditsuse.Oncethesesmartdevice\\nfeaturesareavailable,simplyscantheQRcodeusingthesmartdeviceappforsetup.Tolearnmore,visit\\nsce.com/helpcenter/rin.'"
      ]
     },
     "execution_count": 38,
     "metadata": {},
     "output_type": "execute_result"
    }
   ],
   "source": [
    "page4"
   ]
  },
  {
   "cell_type": "code",
   "execution_count": null,
   "id": "248b9cba-1ce9-468c-8df9-28a26c82d44f",
   "metadata": {},
   "outputs": [],
   "source": []
  }
 ],
 "metadata": {
  "kernelspec": {
   "display_name": "Python 3 (ipykernel)",
   "language": "python",
   "name": "python3"
  },
  "language_info": {
   "codemirror_mode": {
    "name": "ipython",
    "version": 3
   },
   "file_extension": ".py",
   "mimetype": "text/x-python",
   "name": "python",
   "nbconvert_exporter": "python",
   "pygments_lexer": "ipython3",
   "version": "3.12.11"
  }
 },
 "nbformat": 4,
 "nbformat_minor": 5
}
