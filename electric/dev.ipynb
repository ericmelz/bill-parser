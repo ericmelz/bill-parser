{
 "cells": [
  {
   "cell_type": "markdown",
   "id": "5a282a74-7ce7-4b02-92a7-8891c4942721",
   "metadata": {},
   "source": [
    "# Electric Bill Parser Development"
   ]
  },
  {
   "cell_type": "code",
   "execution_count": 8,
   "id": "d3ec9b76-0f86-4bb2-b75a-ca112836fc49",
   "metadata": {},
   "outputs": [],
   "source": [
    "import pdfplumber\n",
    "import re"
   ]
  },
  {
   "cell_type": "code",
   "execution_count": 130,
   "id": "e27c9007-5262-4661-8dcd-1b96cfa28d96",
   "metadata": {},
   "outputs": [],
   "source": [
    "file = \"/Users/ericmelz/Data/Bills/Electric/2025/2025_07_09.pdf\""
   ]
  },
  {
   "cell_type": "code",
   "execution_count": 131,
   "id": "341cb8b3-eb84-4fd5-931a-2f0cca809627",
   "metadata": {},
   "outputs": [],
   "source": [
    "pages = []"
   ]
  },
  {
   "cell_type": "code",
   "execution_count": 132,
   "id": "0872d076-3f96-4d72-bf5a-0662e2742a6e",
   "metadata": {},
   "outputs": [],
   "source": [
    "with pdfplumber.open(file) as pdf:\n",
    "    for page in pdf.pages:\n",
    "        text = page.extract_text()\n",
    "        pages.append(text)"
   ]
  },
  {
   "cell_type": "code",
   "execution_count": 133,
   "id": "d0acae2a-bb34-493d-bc9c-7234055f2869",
   "metadata": {},
   "outputs": [
    {
     "data": {
      "text/plain": [
       "6"
      ]
     },
     "execution_count": 133,
     "metadata": {},
     "output_type": "execute_result"
    }
   ],
   "source": [
    "len(pages)"
   ]
  },
  {
   "cell_type": "code",
   "execution_count": 135,
   "id": "1e423cba-2d9c-44f6-8396-4993e47bc609",
   "metadata": {},
   "outputs": [],
   "source": [
    "page3 = pages[3]"
   ]
  },
  {
   "cell_type": "code",
   "execution_count": 136,
   "id": "31a4cc6d-cc99-4bec-86a4-5c23fbc1d823",
   "metadata": {},
   "outputs": [],
   "source": [
    "page4 = pages[4]"
   ]
  },
  {
   "cell_type": "code",
   "execution_count": 137,
   "id": "09a72af7-5732-4eca-b55b-2569c30489d0",
   "metadata": {},
   "outputs": [],
   "source": [
    "def extract_delivery_usage_charges(pages):\n",
    "    data_rows = []\n",
    "    for page in pages:\n",
    "        delivery_matches = re.findall(r'(Onpeak|Midpeak|Offpeak) (\\d{1,3}(?:,\\d{3})*)kWhx\\$(\\d+\\.\\d+) \\$(\\d+.\\d+)', page)\n",
    "        for tou, kwh, rate, amount in delivery_matches:\n",
    "            data_rows.append([tou, kwh.replace(',', ''), rate, amount])\n",
    "    return data_rows"
   ]
  },
  {
   "cell_type": "code",
   "execution_count": 138,
   "id": "3066e5a0-7857-4637-8076-0f934c93e8e0",
   "metadata": {},
   "outputs": [
    {
     "data": {
      "text/plain": [
       "[['Onpeak', '156', '0.34124', '53.23'],\n",
       " ['Midpeak', '53', '0.34124', '18.09'],\n",
       " ['Offpeak', '1374', '0.29399', '403.94']]"
      ]
     },
     "execution_count": 138,
     "metadata": {},
     "output_type": "execute_result"
    }
   ],
   "source": [
    "delivery_usage_charges = extract_delivery_usage_charges(pages)\n",
    "delivery_usage_charges"
   ]
  },
  {
   "cell_type": "code",
   "execution_count": 139,
   "id": "cb25ef59-862a-4210-b438-2527335b632c",
   "metadata": {},
   "outputs": [],
   "source": [
    "def extract_basic_charge(pages):\n",
    "    data_rows = []\n",
    "    for page in pages:\n",
    "        matches = re.findall(r'(Basiccharge) (\\d+)daysx\\$(\\d\\.\\d+) \\$(\\d.\\d+)', page)\n",
    "        for chargetype, days, rate, amount in matches:\n",
    "            data_rows.append([chargetype, days, rate, amount])\n",
    "    return data_rows    "
   ]
  },
  {
   "cell_type": "code",
   "execution_count": 140,
   "id": "12779bfb-3d3c-446e-b0c9-7662c61f6380",
   "metadata": {},
   "outputs": [
    {
     "data": {
      "text/plain": [
       "[['Basiccharge', '29', '0.03100', '0.90']]"
      ]
     },
     "execution_count": 140,
     "metadata": {},
     "output_type": "execute_result"
    }
   ],
   "source": [
    "basic_charge = extract_basic_charge(pages)\n",
    "basic_charge"
   ]
  },
  {
   "cell_type": "code",
   "execution_count": 151,
   "id": "1bdd381c-63ba-4f66-ab4d-39b37f47484f",
   "metadata": {},
   "outputs": [],
   "source": [
    "def extract_delivery_surcharges(pages):\n",
    "    data_rows = []\n",
    "    for page in pages:\n",
    "        matches = re.findall(r'(Baselinecredit|PCIA|CCAwildfirefundcharge|CTC|Fixedrecoverycharge) (\\d{1,3}(?:,\\d{3})*)kWhx(-?\\$\\d.\\d+) (-?\\$\\d+.\\d+)', page)\n",
    "        for chargetype, kwh, rate, amount in matches:\n",
    "            data_rows.append([chargetype, kwh.replace(',', ''), rate.replace('$', ''), amount.replace('$', '')])\n",
    "    return data_rows    "
   ]
  },
  {
   "cell_type": "code",
   "execution_count": 152,
   "id": "86f6d615-317a-4b3d-bd62-8430d35aaa0d",
   "metadata": {},
   "outputs": [
    {
     "data": {
      "text/plain": [
       "[['Baselinecredit', '490', '-0.09250', '-45.33'],\n",
       " ['PCIA', '1583', '-0.01227', '-19.42'],\n",
       " ['CCAwildfirefundcharge', '1583', '0.00595', '9.42'],\n",
       " ['CTC', '1583', '-0.00058', '-0.92'],\n",
       " ['Fixedrecoverycharge', '1583', '0.00198', '3.13']]"
      ]
     },
     "execution_count": 152,
     "metadata": {},
     "output_type": "execute_result"
    }
   ],
   "source": [
    "delivery_surcharges = extract_delivery_surcharges(pages)\n",
    "delivery_surcharges"
   ]
  },
  {
   "cell_type": "code",
   "execution_count": 156,
   "id": "2e213e57-0c64-499d-a919-17809fd17361",
   "metadata": {},
   "outputs": [
    {
     "data": {
      "text/plain": [
       "[('GenerationMunicipalSurcharge', '1.43')]"
      ]
     },
     "execution_count": 156,
     "metadata": {},
     "output_type": "execute_result"
    }
   ],
   "source": [
    "re.findall(r'(GenerationMunicipalSurcharge) \\$(\\d+.\\d+)', page4)"
   ]
  },
  {
   "cell_type": "code",
   "execution_count": 158,
   "id": "fb4a7b87-80bd-45ca-a6ec-96402814461b",
   "metadata": {},
   "outputs": [],
   "source": [
    "def extract_generation_municipal_surcharges(pages):\n",
    "    data_rows = []\n",
    "    for page in pages:\n",
    "        matches = re.findall(r'(GenerationMunicipalSurcharge) \\$(\\d+.\\d+)', page)\n",
    "        for chargetype, amount in matches:\n",
    "            data_rows.append([chargetype, amount])\n",
    "    return data_rows    "
   ]
  },
  {
   "cell_type": "code",
   "execution_count": 163,
   "id": "8068229a-d88b-42cb-ae0b-30acd071cb96",
   "metadata": {},
   "outputs": [
    {
     "data": {
      "text/plain": [
       "[['GenerationMunicipalSurcharge', '1.43']]"
      ]
     },
     "execution_count": 163,
     "metadata": {},
     "output_type": "execute_result"
    }
   ],
   "source": [
    "generation_municipal_surcharge = extract_generation_municipal_surcharges(pages)\n",
    "generation_municipal_surcharge"
   ]
  },
  {
   "cell_type": "code",
   "execution_count": 164,
   "id": "179b8bae-fec6-48b4-bd66-5baa79161096",
   "metadata": {},
   "outputs": [
    {
     "data": {
      "text/plain": [
       "424.46999999999997"
      ]
     },
     "execution_count": 164,
     "metadata": {},
     "output_type": "execute_result"
    }
   ],
   "source": [
    "sum([float(row[-1]) for row in delivery_usage_charges]) + \\\n",
    "sum([float(row[-1]) for row in basic_charge]) + \\\n",
    "sum([float(row[-1]) for row in delivery_surcharges]) + \\\n",
    "sum([float(row[-1]) for row in generation_municipal_surcharge])"
   ]
  },
  {
   "cell_type": "code",
   "execution_count": null,
   "id": "898f4682-ef57-4ed8-b5fb-10dcd2fb4db5",
   "metadata": {},
   "outputs": [],
   "source": []
  }
 ],
 "metadata": {
  "kernelspec": {
   "display_name": "Python 3 (ipykernel)",
   "language": "python",
   "name": "python3"
  },
  "language_info": {
   "codemirror_mode": {
    "name": "ipython",
    "version": 3
   },
   "file_extension": ".py",
   "mimetype": "text/x-python",
   "name": "python",
   "nbconvert_exporter": "python",
   "pygments_lexer": "ipython3",
   "version": "3.12.11"
  }
 },
 "nbformat": 4,
 "nbformat_minor": 5
}
