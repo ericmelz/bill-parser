{
 "cells": [
  {
   "cell_type": "code",
   "execution_count": null,
   "id": "ftnpnp42e58",
   "metadata": {},
   "outputs": [],
   "source": [
    "from dataclasses import dataclass\n",
    "from typing import Optional\n",
    "import csv\n",
    "from datetime import datetime\n",
    "\n",
    "@dataclass\n",
    "class BillLineItem:\n",
    "    bill_date: str\n",
    "    category: str\n",
    "    description: str\n",
    "    quantity: Optional[float] = None\n",
    "    unit: Optional[str] = None\n",
    "    rate: Optional[float] = None\n",
    "    amount: float = 0.0\n",
    "    \n",
    "    def to_csv_row(self):\n",
    "        return [self.bill_date, self.category, self.description, \n",
    "                self.quantity or '', self.unit or '', self.rate or '', self.amount]"
   ]
  },
  {
   "cell_type": "markdown",
   "id": "5a282a74-7ce7-4b02-92a7-8891c4942721",
   "metadata": {},
   "source": [
    "# Electric Bill Parser Development"
   ]
  },
  {
   "cell_type": "code",
   "execution_count": 1,
   "id": "d3ec9b76-0f86-4bb2-b75a-ca112836fc49",
   "metadata": {},
   "outputs": [],
   "source": [
    "import pdfplumber\n",
    "import re"
   ]
  },
  {
   "cell_type": "code",
   "execution_count": 2,
   "id": "e27c9007-5262-4661-8dcd-1b96cfa28d96",
   "metadata": {},
   "outputs": [],
   "source": [
    "file = \"/Users/ericmelz/Data/Bills/Electric/2025/2025_07_09.pdf\""
   ]
  },
  {
   "cell_type": "code",
   "execution_count": 3,
   "id": "341cb8b3-eb84-4fd5-931a-2f0cca809627",
   "metadata": {},
   "outputs": [],
   "source": [
    "pages = []"
   ]
  },
  {
   "cell_type": "code",
   "execution_count": 4,
   "id": "0872d076-3f96-4d72-bf5a-0662e2742a6e",
   "metadata": {},
   "outputs": [],
   "source": [
    "with pdfplumber.open(file) as pdf:\n",
    "    for page in pdf.pages:\n",
    "        text = page.extract_text()\n",
    "        pages.append(text)"
   ]
  },
  {
   "cell_type": "code",
   "execution_count": 5,
   "id": "d0acae2a-bb34-493d-bc9c-7234055f2869",
   "metadata": {},
   "outputs": [
    {
     "data": {
      "text/plain": [
       "6"
      ]
     },
     "execution_count": 5,
     "metadata": {},
     "output_type": "execute_result"
    }
   ],
   "source": [
    "len(pages)"
   ]
  },
  {
   "cell_type": "code",
   "execution_count": 6,
   "id": "ebde5ce6-f3d4-4a72-8c9f-3b790e2385c9",
   "metadata": {},
   "outputs": [],
   "source": [
    "page3 = pages[3]\n",
    "page4 = pages[4]\n",
    "page5 = pages[5]"
   ]
  },
  {
   "cell_type": "code",
   "execution_count": 7,
   "id": "09a72af7-5732-4eca-b55b-2569c30489d0",
   "metadata": {},
   "outputs": [],
   "source": [
    "def extract_delivery_usage_charges(pages):\n",
    "    data_rows = []\n",
    "    for page in pages:\n",
    "        delivery_matches = re.findall(r'(Onpeak|Midpeak|Offpeak) (\\d{1,3}(?:,\\d{3})*)kWhx\\$(\\d+\\.\\d+) \\$(\\d+.\\d+)', page)\n",
    "        for tou, kwh, rate, amount in delivery_matches:\n",
    "            data_rows.append([tou, kwh.replace(',', ''), rate, amount])\n",
    "    return data_rows"
   ]
  },
  {
   "cell_type": "code",
   "execution_count": 8,
   "id": "3066e5a0-7857-4637-8076-0f934c93e8e0",
   "metadata": {},
   "outputs": [
    {
     "data": {
      "text/plain": [
       "[['Onpeak', '156', '0.34124', '53.23'],\n",
       " ['Midpeak', '53', '0.34124', '18.09'],\n",
       " ['Offpeak', '1374', '0.29399', '403.94']]"
      ]
     },
     "execution_count": 8,
     "metadata": {},
     "output_type": "execute_result"
    }
   ],
   "source": [
    "delivery_usage_charges = extract_delivery_usage_charges(pages)\n",
    "delivery_usage_charges"
   ]
  },
  {
   "cell_type": "code",
   "execution_count": 9,
   "id": "cb25ef59-862a-4210-b438-2527335b632c",
   "metadata": {},
   "outputs": [],
   "source": [
    "def extract_basic_charge(pages):\n",
    "    data_rows = []\n",
    "    for page in pages:\n",
    "        matches = re.findall(r'(Basiccharge) (\\d+)daysx\\$(\\d\\.\\d+) \\$(\\d.\\d+)', page)\n",
    "        for chargetype, days, rate, amount in matches:\n",
    "            data_rows.append([chargetype, days, rate, amount])\n",
    "    return data_rows    "
   ]
  },
  {
   "cell_type": "code",
   "execution_count": 10,
   "id": "12779bfb-3d3c-446e-b0c9-7662c61f6380",
   "metadata": {},
   "outputs": [
    {
     "data": {
      "text/plain": [
       "[['Basiccharge', '29', '0.03100', '0.90']]"
      ]
     },
     "execution_count": 10,
     "metadata": {},
     "output_type": "execute_result"
    }
   ],
   "source": [
    "basic_charge = extract_basic_charge(pages)\n",
    "basic_charge"
   ]
  },
  {
   "cell_type": "code",
   "execution_count": 11,
   "id": "1bdd381c-63ba-4f66-ab4d-39b37f47484f",
   "metadata": {},
   "outputs": [],
   "source": [
    "def extract_delivery_surcharges(pages):\n",
    "    data_rows = []\n",
    "    for page in pages:\n",
    "        matches = re.findall(r'(Baselinecredit|PCIA|CCAwildfirefundcharge|CTC|Fixedrecoverycharge) (\\d{1,3}(?:,\\d{3})*)kWhx(-?\\$\\d.\\d+) (-?\\$\\d+.\\d+)', page)\n",
    "        for chargetype, kwh, rate, amount in matches:\n",
    "            data_rows.append([chargetype, kwh.replace(',', ''), rate.replace('$', ''), amount.replace('$', '')])\n",
    "    return data_rows    "
   ]
  },
  {
   "cell_type": "code",
   "execution_count": 12,
   "id": "86f6d615-317a-4b3d-bd62-8430d35aaa0d",
   "metadata": {},
   "outputs": [
    {
     "data": {
      "text/plain": [
       "[['Baselinecredit', '490', '-0.09250', '-45.33'],\n",
       " ['PCIA', '1583', '-0.01227', '-19.42'],\n",
       " ['CCAwildfirefundcharge', '1583', '0.00595', '9.42'],\n",
       " ['CTC', '1583', '-0.00058', '-0.92'],\n",
       " ['Fixedrecoverycharge', '1583', '0.00198', '3.13']]"
      ]
     },
     "execution_count": 12,
     "metadata": {},
     "output_type": "execute_result"
    }
   ],
   "source": [
    "delivery_surcharges = extract_delivery_surcharges(pages)\n",
    "delivery_surcharges"
   ]
  },
  {
   "cell_type": "code",
   "execution_count": 13,
   "id": "2e213e57-0c64-499d-a919-17809fd17361",
   "metadata": {},
   "outputs": [
    {
     "data": {
      "text/plain": [
       "[('GenerationMunicipalSurcharge', '1.43')]"
      ]
     },
     "execution_count": 13,
     "metadata": {},
     "output_type": "execute_result"
    }
   ],
   "source": [
    "re.findall(r'(GenerationMunicipalSurcharge) \\$(\\d+.\\d+)', page4)"
   ]
  },
  {
   "cell_type": "code",
   "execution_count": 14,
   "id": "fb4a7b87-80bd-45ca-a6ec-96402814461b",
   "metadata": {},
   "outputs": [],
   "source": [
    "def extract_generation_municipal_surcharges(pages):\n",
    "    data_rows = []\n",
    "    for page in pages:\n",
    "        matches = re.findall(r'(GenerationMunicipalSurcharge) \\$(\\d+.\\d+)', page)\n",
    "        for chargetype, amount in matches:\n",
    "            data_rows.append([chargetype, amount])\n",
    "    return data_rows    "
   ]
  },
  {
   "cell_type": "code",
   "execution_count": 15,
   "id": "8068229a-d88b-42cb-ae0b-30acd071cb96",
   "metadata": {},
   "outputs": [
    {
     "data": {
      "text/plain": [
       "[['GenerationMunicipalSurcharge', '1.43']]"
      ]
     },
     "execution_count": 15,
     "metadata": {},
     "output_type": "execute_result"
    }
   ],
   "source": [
    "generation_municipal_surcharge = extract_generation_municipal_surcharges(pages)\n",
    "generation_municipal_surcharge"
   ]
  },
  {
   "cell_type": "code",
   "execution_count": 16,
   "id": "0e2cbae5-1380-4367-8685-135fd0ac6a5f",
   "metadata": {},
   "outputs": [],
   "source": [
    "def extract_generation_usage_charges(pages):\n",
    "    data_rows = []\n",
    "    for page in pages:\n",
    "        matches = re.findall(r'100%GreenPower-(.*-Peak)- (\\d+.\\d+)kWh@(\\d+.\\d+) \\$(\\d+.\\d+)', page)\n",
    "        for tou, kwh, rate, amount in matches:\n",
    "            data_rows.append([tou, kwh, rate, amount])\n",
    "    return data_rows    "
   ]
  },
  {
   "cell_type": "code",
   "execution_count": 17,
   "id": "644034ee-c76e-477a-899c-000107022139",
   "metadata": {},
   "outputs": [
    {
     "data": {
      "text/plain": [
       "[['On-Peak', '138.4', '0.47105', '65.19'],\n",
       " ['Mid-Peak', '53.2', '0.24747', '13.17'],\n",
       " ['Off-Peak', '1276', '0.08431', '107.58'],\n",
       " ['On-Peak', '17.2', '0.46098', '7.93'],\n",
       " ['Off-Peak', '97.6', '0.08578', '8.37']]"
      ]
     },
     "execution_count": 17,
     "metadata": {},
     "output_type": "execute_result"
    }
   ],
   "source": [
    "generation_usage_charges = extract_generation_usage_charges(pages)\n",
    "generation_usage_charges"
   ]
  },
  {
   "cell_type": "code",
   "execution_count": 18,
   "id": "5b62e2d4-7148-4aab-bc4d-53b004973d38",
   "metadata": {},
   "outputs": [
    {
     "data": {
      "text/plain": [
       "[('EnergySurcharge', '0.47')]"
      ]
     },
     "execution_count": 18,
     "metadata": {},
     "output_type": "execute_result"
    }
   ],
   "source": [
    "re.findall(r'(EnergySurcharge) \\$(\\d+.\\d+)', page5)"
   ]
  },
  {
   "cell_type": "code",
   "execution_count": 19,
   "id": "740414e9-13a8-4c3d-84d2-883ee77329ac",
   "metadata": {},
   "outputs": [],
   "source": [
    "def extract_energy_surcharge(pages):\n",
    "    data_rows = []\n",
    "    for page in pages:\n",
    "        matches = re.findall(r'(EnergySurcharge) \\$(\\d+.\\d+)', page)\n",
    "        for charge, amount in matches:\n",
    "            data_rows.append([charge, amount])\n",
    "    return data_rows    "
   ]
  },
  {
   "cell_type": "code",
   "execution_count": 20,
   "id": "af4f5c84-ae84-4b09-8ef2-0b5cd0e5be5b",
   "metadata": {},
   "outputs": [
    {
     "data": {
      "text/plain": [
       "[['EnergySurcharge', '0.47']]"
      ]
     },
     "execution_count": 20,
     "metadata": {},
     "output_type": "execute_result"
    }
   ],
   "source": [
    "extract_energy_surcharge(pages)"
   ]
  },
  {
   "cell_type": "code",
   "execution_count": 21,
   "id": "f62484c9-3bc2-4a5a-8d6e-9eb375533301",
   "metadata": {},
   "outputs": [],
   "source": [
    "def compute_total(pages):\n",
    "    delivery_usage_charges = extract_delivery_usage_charges(pages)\n",
    "    basic_charge = extract_basic_charge(pages)\n",
    "    delivery_surcharges = extract_delivery_surcharges(pages)\n",
    "    generation_municipal_surchage = extract_generation_municipal_surcharges(pages)\n",
    "    generation_usage_charges = extract_generation_usage_charges(pages)\n",
    "    energy_surchage = extract_energy_surcharge(pages)\n",
    "    return sum([float(row[-1]) for row in delivery_usage_charges]) + \\\n",
    "        sum([float(row[-1]) for row in basic_charge]) + \\\n",
    "        sum([float(row[-1]) for row in delivery_surcharges]) + \\\n",
    "        sum([float(row[-1]) for row in generation_municipal_surcharge]) + \\\n",
    "        sum([float(row[-1]) for row in generation_usage_charges]) + \\\n",
    "        sum([float(row[-1]) for row in energy_surchage])"
   ]
  },
  {
   "cell_type": "code",
   "execution_count": 22,
   "id": "53ba3733-30ed-4b72-88d6-bab102325464",
   "metadata": {},
   "outputs": [
    {
     "data": {
      "text/plain": [
       "627.1800000000001"
      ]
     },
     "execution_count": 22,
     "metadata": {},
     "output_type": "execute_result"
    }
   ],
   "source": [
    "compute_total(pages)"
   ]
  },
  {
   "cell_type": "code",
   "execution_count": 32,
   "id": "da8d6764-b339-450d-938c-9b7d01a3e403",
   "metadata": {},
   "outputs": [],
   "source": [
    "def extract_prepared_date(pages):\n",
    "    all_text = ' '.join(pages)\n",
    "    date_patterns = [\n",
    "        r'\\d{12} (\\d{2}/\\d{2}/\\d{2})',\n",
    "    ]\n",
    "    for pattern in date_patterns:\n",
    "        match = re.findall(pattern, all_text)\n",
    "        if matches:\n",
    "            return match\n",
    "    return None"
   ]
  },
  {
   "cell_type": "code",
   "execution_count": 34,
   "id": "f0332510-d747-4f8d-883b-83a48ce06329",
   "metadata": {},
   "outputs": [
    {
     "data": {
      "text/plain": [
       "['07/09/25']"
      ]
     },
     "execution_count": 34,
     "metadata": {},
     "output_type": "execute_result"
    }
   ],
   "source": [
    "prepared_date = extract_prepared_date(pages)\n",
    "prepared_date"
   ]
  },
  {
   "cell_type": "markdown",
   "id": "fb2d1683-6762-4d15-a7a7-f12990a7ea7f",
   "metadata": {},
   "source": [
    "## Refactor with dataclass"
   ]
  },
  {
   "cell_type": "code",
   "execution_count": 36,
   "id": "ae469268-e530-4a94-822d-f54fa8d30ff6",
   "metadata": {},
   "outputs": [],
   "source": [
    "from dataclasses import dataclass\n",
    "from typing import Optional\n",
    "import csv\n",
    "from datetime import datetime\n",
    "\n",
    "@dataclass\n",
    "class BillLineItem:\n",
    "   bill_date: str\n",
    "   category: str\n",
    "   description: str\n",
    "   quantity: Optional[float] = None\n",
    "   unit: Optional[str] = None\n",
    "   rate: Optional[float] = None\n",
    "   amount: float = 0.0\n",
    "\n",
    "   def to_csv_row(self):\n",
    "       return [self.bill_date, self.category, self.description, self.quantity or '', self.unit or '', self.rate or '', self.amount]"
   ]
  },
  {
   "cell_type": "markdown",
   "id": "ebde7959-cdc6-469b-a111-6fabe816d0b1",
   "metadata": {},
   "source": []
  }
 ],
 "metadata": {
  "kernelspec": {
   "display_name": "Python 3 (ipykernel)",
   "language": "python",
   "name": "python3"
  },
  "language_info": {
   "codemirror_mode": {
    "name": "ipython",
    "version": 3
   },
   "file_extension": ".py",
   "mimetype": "text/x-python",
   "name": "python",
   "nbconvert_exporter": "python",
   "pygments_lexer": "ipython3",
   "version": "3.12.11"
  }
 },
 "nbformat": 4,
 "nbformat_minor": 5
}
