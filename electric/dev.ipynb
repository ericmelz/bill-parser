{
 "cells": [
  {
   "cell_type": "markdown",
   "id": "5a282a74-7ce7-4b02-92a7-8891c4942721",
   "metadata": {},
   "source": [
    "# Electric Bill Parser Development"
   ]
  },
  {
   "cell_type": "code",
   "execution_count": 209,
   "id": "8025686f-ebc9-4ecc-b548-6127bdaa9288",
   "metadata": {},
   "outputs": [],
   "source": [
    "from dataclasses import dataclass\n",
    "from datetime import datetime\n",
    "from pathlib import Path\n",
    "from typing import Optional\n",
    "import csv\n",
    "import pdfplumber\n",
    "import re\n",
    "import os\n",
    "\n",
    "@dataclass\n",
    "class BillLineItem:\n",
    "    bill_date: str\n",
    "    category: str\n",
    "    description: str\n",
    "    quantity: Optional[float] = None\n",
    "    unit: Optional[str] = None\n",
    "    rate: Optional[float] = None\n",
    "    amount: float = 0.0\n",
    "    \n",
    "    def to_csv_row(self):\n",
    "        return [self.bill_date, self.category, self.description, \n",
    "                self.quantity or '', self.unit or '', self.rate or '', self.amount]\n",
    "\n",
    "def extract_bill_date(pages):\n",
    "    \"\"\"Extract bill date from PDF text\"\"\"\n",
    "    all_text = ' '.join(pages)\n",
    "    # Try common date patterns\n",
    "    patterns = [\n",
    "        r'(?:\\d{12}|\\d{1}-\\d{2}-\\d{3}-\\d{4}) (\\d{2}/\\d{2}/\\d{2})'\n",
    "    ]\n",
    "    \n",
    "    for pattern in patterns:\n",
    "        matches = re.findall(pattern, all_text)\n",
    "        if matches:\n",
    "            return matches[0]\n",
    "    \n",
    "    # Fallback: extract from filename if available\n",
    "    filename_match = re.search(r'(\\d{4})_(\\d{2})_(\\d{2})', file)\n",
    "    if filename_match:\n",
    "        raise Exception(\"warning: we matched filename match instead of date pattern.  fix this code\")\n",
    "        year, month, day = filename_match.groups()\n",
    "        return f\"{month}/{day}/{year}\"\n",
    "    \n",
    "    return \"Unknown\"\n",
    "\n",
    "def parse_pages(pages):\n",
    "    \"\"\"Unified function to extract all line items from electric bill\"\"\"\n",
    "    bill_date = extract_bill_date(pages)\n",
    "    line_items = []\n",
    "    all_text = ' '.join(pages)\n",
    "    \n",
    "    # Delivery usage charges (Time of Use)\n",
    "    delivery_matches = re.findall(r'(Onpeak|Midpeak|Offpeak|Superoffpeak) (\\d{1,3}(?:,\\d{3})*)kWhx\\$(\\d+\\.?\\d+) \\$(\\d+\\.\\d+)', all_text)\n",
    "    for tou, kwh, rate, amount in delivery_matches:\n",
    "        line_items.append(BillLineItem(\n",
    "            bill_date=bill_date,\n",
    "            category=\"Delivery\",\n",
    "            description=f\"{tou} Usage\",\n",
    "            quantity=float(kwh.replace(',', '')),\n",
    "            unit=\"kWh\",\n",
    "            rate=float(rate),\n",
    "            amount=float(amount)\n",
    "        ))\n",
    "\n",
    "    # Delivery usage charges (Tiered)\n",
    "    delivery_matches = re.findall(r'(Tier\\d.*) (\\d+(?:,\\d{3})*)kWhx\\$(\\d\\.\\d+) \\$(\\d+.\\d+)', all_text)\n",
    "    for tier, kwh, rate, amount in delivery_matches:\n",
    "        line_items.append(BillLineItem(\n",
    "            bill_date=bill_date,\n",
    "            category=\"Delivery\",\n",
    "            description=f\"{tier} Usage\",\n",
    "            quantity=float(kwh.replace(',', '')),\n",
    "            unit=\"kWh\",\n",
    "            rate=float(rate),\n",
    "            amount=float(amount)\n",
    "        ))\n",
    "    \n",
    "    \n",
    "    # Basic charge\n",
    "    basic_matches = re.findall(r'(Basiccharge) (\\d+)daysx\\$(\\d\\.?\\d+) \\$(\\d.?\\d+)', all_text)\n",
    "    for _, days, rate, amount in basic_matches:\n",
    "        line_items.append(BillLineItem(\n",
    "            bill_date=bill_date,\n",
    "            category=\"Delivery Surcharge\",\n",
    "            description=\"Basic Charge\",\n",
    "            quantity=float(days),\n",
    "            unit=\"days\",\n",
    "            rate=float(rate),\n",
    "            amount=float(amount)\n",
    "        ))\n",
    "    \n",
    "    # Delivery surcharges\n",
    "    surcharge_matches = re.findall(r'(Baselinecredit|PCIA|CCAwildfirefundcharge|CCAwildfirecharge|CTC|Fixedrecoverycharge|DWR.*) (\\d{1,3}(?:,\\d{3})*)kWhx(-?\\$\\d.?\\d+) (-?\\$\\d+.?\\d+)', all_text)\n",
    "    for charge_type, kwh, rate, amount in surcharge_matches:\n",
    "        line_items.append(BillLineItem(\n",
    "            bill_date=bill_date,\n",
    "            category=\"Delivery Surcharge\",\n",
    "            description=charge_type.replace('charge', ' charge').replace('credit', ' credit'),\n",
    "            quantity=float(kwh.replace(',', '')),\n",
    "            unit=\"kWh\",\n",
    "            rate=float(rate.replace('$', '')),\n",
    "            amount=float(amount.replace('$', ''))\n",
    "        ))\n",
    "\n",
    "    # Generation municipal surcharge\n",
    "    municipal_matches = re.findall(r'(GenerationMunicipalSurcharge) \\$(\\d+.?\\d+)', all_text)\n",
    "    for charge_type, amount in municipal_matches:\n",
    "        line_items.append(BillLineItem(\n",
    "            bill_date=bill_date,\n",
    "            category=\"Generation Surcharge\",\n",
    "            description=\"Municipal Surcharge\",\n",
    "            amount=float(amount)\n",
    "        ))\n",
    "         \n",
    "    # Generation CA Climate Credit\n",
    "    municipal_matches = re.findall(r'(CAClimateCredit) (-\\$\\d+.?\\d+)', all_text)\n",
    "    for charge_type, amount in municipal_matches:\n",
    "        line_items.append(BillLineItem(\n",
    "            bill_date=bill_date,\n",
    "            category=\"Generation Surcharge\",\n",
    "            description=\"CA Climate Credit\",\n",
    "            amount=float(amount.replace('$', ''))\n",
    "        ))\n",
    "\n",
    "    # Generation usage charges\n",
    "    gen_matches = re.findall(r'100%GreenPower-(.*) (\\d+.?\\d+)kWh@(\\d+.\\d+) \\$(\\d+.\\d+)', all_text)    \n",
    "    for tou, kwh, rate, amount in gen_matches:\n",
    "        line_items.append(BillLineItem(\n",
    "            bill_date=bill_date,\n",
    "            category=\"Generation\",\n",
    "            description=f\"Green Power {tou}\",\n",
    "            quantity=float(kwh),\n",
    "            unit=\"kWh\",\n",
    "            rate=float(rate),\n",
    "            amount=float(amount)\n",
    "        ))\n",
    "\n",
    "    # Generation usage charge - total\n",
    "    gen_matches = re.findall(r'CleanPower-(.*)(\\d+\\.?\\d*)kWh@(\\d\\.\\d+) \\$(\\d+.\\d+)', all_text) \n",
    "    for tou, kwh, rate, amount in gen_matches:\n",
    "        line_items.append(BillLineItem(\n",
    "            bill_date=bill_date,\n",
    "            category=\"Generation\",\n",
    "            description=f\"{tou}\",\n",
    "            quantity=float(kwh),\n",
    "            unit=\"kWh\",\n",
    "            rate=float(rate),\n",
    "            amount=float(amount)\n",
    "        ))\n",
    "         \n",
    "    # Energy surcharge\n",
    "    energy_matches = re.findall(r'(EnergySurcharge) \\$(\\d+.?\\d+)', all_text)\n",
    "    for charge_type, amount in energy_matches:\n",
    "        line_items.append(BillLineItem(\n",
    "            bill_date=bill_date,\n",
    "            category=\"Generation Surcharge\",\n",
    "            description=\"Energy Surcharge\",\n",
    "            amount=float(amount)\n",
    "        ))\n",
    "         \n",
    "    return line_items\n",
    "         \n",
    "\n",
    "def get_pages(file):\n",
    "    pages = []\n",
    "    with pdfplumber.open(file) as pdf:\n",
    "        for page in pdf.pages:\n",
    "            text = page.extract_text()\n",
    "            pages.append(text)\n",
    "\n",
    "    return pages\n",
    "\n",
    "def parse_file(file):\n",
    "    pages = get_pages(file)\n",
    "    line_items = parse_pages(pages)\n",
    "    return line_items\n",
    "\n",
    "def write_to_csv(line_items, filename=\"electric_bill.csv\"):\n",
    "    headers = ['bill_date', 'category', 'description', 'quantity', 'unit', 'rate', 'amount']\n",
    "    \n",
    "    with open(filename, 'w', newline='') as csvfile:\n",
    "        writer = csv.writer(csvfile)\n",
    "        writer.writerow(headers)\n",
    "        for item in line_items:\n",
    "            writer.writerow(item.to_csv_row())\n",
    "    \n",
    "def parse_files(files, dest_dir):\n",
    "    actual_totals = {}\n",
    "    all_line_items = []\n",
    "    for src_file in files:\n",
    "        dest_file = Path(dest_dir) / Path(Path(src_file).stem).with_suffix('.csv')\n",
    "        line_items = parse_file(src_file)\n",
    "        all_line_items.extend(line_items)\n",
    "        write_to_csv(line_items, dest_file)\n",
    "        amount = f'{sum(item.amount for item in line_items):.2f}'\n",
    "        bill_date = Path(src_file).stem\n",
    "        actual_totals[bill_date] = amount\n",
    "        print(f\"Wrote {dest_file}, {len(line_items)} lines, Total amount: ${amount}\")\n",
    "    dest_file = Path(dest_dir) / Path(\"electric_bills.csv\")\n",
    "    write_to_csv(all_line_items, dest_file)\n",
    "    print(f\"Wrote {dest_file}, {len(all_line_items)} lines, Total amount: ${sum(item.amount for item in all_line_items):.2f}\")\n",
    "    return actual_totals\n",
    "\n",
    "def test_totals(expected, actual):\n",
    "    for k, v in actual.items():\n",
    "        assert expected[k] == v, f\"For {k} expected {expected[k]} but got {v}\""
   ]
  },
  {
   "cell_type": "code",
   "execution_count": 210,
   "id": "e27c9007-5262-4661-8dcd-1b96cfa28d96",
   "metadata": {},
   "outputs": [],
   "source": [
    "EXPECTED_TOTALS = {\n",
    "    '2020_04_21': '211.57',\n",
    "    '2020_05_21': '246.25',\n",
    "    '2020_06_20': '203.83',\n",
    "    '2020_07_23': '250.72',\n",
    "    '2020_08_21': '236.38',\n",
    "    '2020_09_22': '370.68',\n",
    "    '2020_10_22': '507.53',\n",
    "    '2020_11_21': '285.58',\n",
    "    '2020_12_22': '368.60',\n",
    "    '2021_01_23': '315.62',\n",
    "    '2021_02_23': '354.05',\n",
    "    '2021_03_24': '379.87',\n",
    "    '2021_04_13': '317.13',\n",
    "    '2021_05_10': '284.96',\n",
    "    '2021_06_08': '291.59',\n",
    "    '2021_07_09': '304.25',\n",
    "    '2021_08_09': '299.94',\n",
    "    '2021_09_07': '289.26',\n",
    "    '2021_10_08': '292.28',\n",
    "    '2021_11_08': '327.21',\n",
    "    '2021_12_09': '378.01',    \n",
    "    '2022_01_07': '418.32',\n",
    "    '2022_02_07': '370.86',\n",
    "    '2022_03_09': '382.32',\n",
    "    '2022_04_07': '235.60',\n",
    "    '2022_05_09': '289.90',\n",
    "    '2022_06_08': '308.33',\n",
    "    '2022_07_11': '307.23',\n",
    "    '2022_08_08': '340.93',\n",
    "    '2022_09_07': '406.74',\n",
    "    '2022_10_08': '622.93',\n",
    "    '2022_11_07': '409.07',\n",
    "    '2022_12_08': '477.72',    \n",
    "    '2023_01_09': '589.27',\n",
    "    '2023_02_07': '755.97',\n",
    "    '2023_03_08': '647.39',\n",
    "    '2023_04_06': '596.49',\n",
    "    '2023_05_08': '585.54',\n",
    "    '2023_06_07': '460.55',\n",
    "    '2023_07_07': '508.09',\n",
    "    '2023_08_07': '487.45',\n",
    "    '2023_09_06': '626.12',\n",
    "    '2023_10_05': '530.13',\n",
    "    '2023_11_03': '519.29',\n",
    "    '2023_12_06': '649.19',    \n",
    "    '2024_01_08': '670.57',\n",
    "    '2024_02_06': '700.36',\n",
    "    '2024_03_08': '759.51',\n",
    "    '2024_04_08': '597.39',\n",
    "    '2024_05_07': '714.01',\n",
    "    '2024_06_06': '613.85',\n",
    "    '2024_07_08': '565.10',\n",
    "    '2024_08_07': '654.61',\n",
    "    '2024_09_06': '739.13',\n",
    "    '2024_10_07': '668.68',\n",
    "    '2024_11_05': '554.15',\n",
    "    '2024_12_06': '776.72',\n",
    "    '2025_01_07': '774.89',\n",
    "    '2025_02_05': '969.10',\n",
    "    '2025_03_07': '894.63',\n",
    "    '2025_04_07': '754.42',\n",
    "    '2025_05_07': '808.63',\n",
    "    '2025_06_06': '630.18',\n",
    "    '2025_07_09': '627.18',\n",
    "}\n",
    "\n",
    "dest_dir = \"/Users/ericmelz/Data/Bills/Electric/CSV\"\n",
    "#years = ['2024', '2025']\n",
    "years = ['2020']\n",
    "files = []\n",
    "\n",
    "for year in years:\n",
    "    src_dir = Path(\"/Users/ericmelz/Data/Bills/Electric/PDF\") / year\n",
    "    for path in src_dir.iterdir():        \n",
    "        if path.suffix.lower() == \".pdf\":\n",
    "            files.append(path)\n"
   ]
  },
  {
   "cell_type": "code",
   "execution_count": 211,
   "id": "67a8f9f3-4868-4f87-9f9b-9fdc1562de4a",
   "metadata": {
    "scrolled": true
   },
   "outputs": [
    {
     "name": "stdout",
     "output_type": "stream",
     "text": [
      "Wrote /Users/ericmelz/Data/Bills/Electric/CSV/2020_11_21.csv, 9 lines, Total amount: $285.58\n",
      "Wrote /Users/ericmelz/Data/Bills/Electric/CSV/2020_07_23.csv, 10 lines, Total amount: $250.72\n",
      "Wrote /Users/ericmelz/Data/Bills/Electric/CSV/2020_09_22.csv, 9 lines, Total amount: $370.68\n",
      "Wrote /Users/ericmelz/Data/Bills/Electric/CSV/2020_05_21.csv, 13 lines, Total amount: $246.25\n",
      "Wrote /Users/ericmelz/Data/Bills/Electric/CSV/2020_12_22.csv, 9 lines, Total amount: $368.60\n",
      "Wrote /Users/ericmelz/Data/Bills/Electric/CSV/2020_10_22.csv, 12 lines, Total amount: $507.53\n",
      "Wrote /Users/ericmelz/Data/Bills/Electric/CSV/2020_06_20.csv, 13 lines, Total amount: $203.83\n",
      "Wrote /Users/ericmelz/Data/Bills/Electric/CSV/2020_04_21.csv, 10 lines, Total amount: $211.57\n",
      "Wrote /Users/ericmelz/Data/Bills/Electric/CSV/2020_08_21.csv, 9 lines, Total amount: $236.38\n",
      "Wrote /Users/ericmelz/Data/Bills/Electric/CSV/electric_bills.csv, 94 lines, Total amount: $2681.14\n"
     ]
    }
   ],
   "source": [
    "actual_totals = parse_files(files, dest_dir)"
   ]
  },
  {
   "cell_type": "code",
   "execution_count": 212,
   "id": "398e7fe0-3c0a-40bd-95f3-da0df7f4e696",
   "metadata": {},
   "outputs": [],
   "source": [
    "test_totals(EXPECTED_TOTALS, actual_totals)"
   ]
  },
  {
   "cell_type": "markdown",
   "id": "393813e3-016c-4049-9005-9d20aec522ae",
   "metadata": {},
   "source": [
    "# Scratchpad for testing"
   ]
  },
  {
   "cell_type": "code",
   "execution_count": 200,
   "id": "595d8160-6dae-47a3-aea8-943e0e1f6bc6",
   "metadata": {},
   "outputs": [],
   "source": [
    "pages = get_pages(files[2])"
   ]
  },
  {
   "cell_type": "code",
   "execution_count": 204,
   "id": "4532bbc6-d14b-407a-9899-7c9cc50b87e7",
   "metadata": {},
   "outputs": [],
   "source": [
    "page2 = pages[2]\n",
    "page3 = pages[3]\n",
    "page4 = pages[4]\n",
    "page5 = pages[5]"
   ]
  },
  {
   "cell_type": "code",
   "execution_count": 205,
   "id": "7cdb9d2f-d832-4683-8bc2-5a769e9492a7",
   "metadata": {},
   "outputs": [
    {
     "data": {
      "text/plain": [
       "\"MELZ,ERIC/ Page3of8\\nServiceaccount 3-047-6370-74 DELIVERY\\nServiceaddress 300SREEVESDR\\nSOUTHERN CALIFORNIA EDISON\\nBEVERLYHILLS,CA90212\\ndelivers your electricity\\nRotatingoutage GroupA007\\nYour past and current electricity usage\\nFormeter223000-016505from08/05/20to09/03/20 Yournextbillingcyclewillendonorabout10/06/20.\\nTotalelectricityyouusedthismonthinkWh 1,488\\nYourdailyaverageelectricityusage(kWh)\\n2Yearsago:79.84 Lastyear:44.00 Thisyear:51.31\\n80\\n53\\n27\\n0\\nAug Aug Sep Oct Nov Dec Jan Feb Mar Apr May Jun Jul Aug\\n'18 '19 '19 '19 '19 '19 '20 '20 '20 '20 '20 '20 '20 '20\\nDetails of your new charges\\nYourrate:DOMESTIC(SCE)\\nBillingperiod:08/05/20to09/03/20(29days)\\nDeliverycharges -Costtodeliveryourelectricity\\nYourDeliverychargesinclude:\\nBasiccharge 29daysx$0.03100 $0.90\\n$27.94transmissioncharges\\nEnergy-Summer\\n·$133.38distributioncharges\\nTier1(100%ofbaseline) 479kWhx$0.10613 $50.84\\n·-$0.74nucleardecommissioning\\nTier2(101%to400%) 1,009kWhx$0.16542 $166.91\\n·charges\\n$18.84conservationincentive\\nCCAcostresponsibilitysurcharge\\n·adjustment\\nPCIA 1,488kWhx$0.02248 $33.45\\n$19.66publicpurposeprograms\\nDWRBondCharge 1,488kWhx$0.00580 $8.63\\n·charge\\nCTC 1,488kWhx$0.00089 $1.32\\n$18.70newsystemgeneration\\nOtherchargesorcredits\\n·charge\\nGenerationMunicipalSurcharge $1.31\\nYouroverallenergychargesinclude:\\nSubtotalofyournewcharges $263.36 $2.40franchisefees\\nYournewcharges $263.36 ·\\n(Continuedonnextpage)\""
      ]
     },
     "execution_count": 205,
     "metadata": {},
     "output_type": "execute_result"
    }
   ],
   "source": [
    "page2"
   ]
  },
  {
   "cell_type": "code",
   "execution_count": 206,
   "id": "d49f1310-f24b-4391-a762-4b566d2c1948",
   "metadata": {},
   "outputs": [
    {
     "data": {
      "text/plain": [
       "[('Tier1(100%ofbaseline)', '479', '0.10613', '50.84')]"
      ]
     },
     "execution_count": 206,
     "metadata": {},
     "output_type": "execute_result"
    }
   ],
   "source": [
    "re.findall(r'(Tier\\d.*) (\\d+)kWhx\\$(\\d\\.\\d+) \\$(\\d+.\\d+)', 'Tier1(100%ofbaseline) 479kWhx$0.10613 $50.84\\n·-$0.74nucleardecommissioning\\nTier2(101%to400%) 1,009kWhx$0.16542 $166.91\\n')"
   ]
  },
  {
   "cell_type": "code",
   "execution_count": 208,
   "id": "95ed0b78-992c-4b61-95dc-80e5c0ecbaea",
   "metadata": {},
   "outputs": [
    {
     "data": {
      "text/plain": [
       "[('Tier1(100%ofbaseline)', '479'), ('Tier2(101%to400%)', '1,009')]"
      ]
     },
     "execution_count": 208,
     "metadata": {},
     "output_type": "execute_result"
    }
   ],
   "source": [
    "re.findall(r'(Tier\\d.*) (\\d+(?:,\\d{3})*)kWhx', 'Tier1(100%ofbaseline) 479kWhx$0.10613 $50.84\\n·-$0.74nucleardecommissioning\\nTier2(101%to400%) 1,009kWhx$0.16542 $166.91\\n')"
   ]
  },
  {
   "cell_type": "code",
   "execution_count": 170,
   "id": "e0bae4e2-6598-4742-b2ef-863248c5595b",
   "metadata": {},
   "outputs": [
    {
     "data": {
      "text/plain": [
       "['CCAwildfirecharge 1,013kWhx$0.00652 $6.6']"
      ]
     },
     "execution_count": 170,
     "metadata": {},
     "output_type": "execute_result"
    }
   ],
   "source": [
    "re.findall(r'(CCAwildfirecharge 1,013kWhx\\$0.00652 \\$6.6)', 'CCAwildfirecharge 1,013kWhx$0.00652 $6.6')"
   ]
  },
  {
   "cell_type": "code",
   "execution_count": 172,
   "id": "d42ee820-c777-4e15-b47b-21368cf94c98",
   "metadata": {},
   "outputs": [
    {
     "data": {
      "text/plain": [
       "['CCAwildfirecharge 1,013kWhx$0.00652 $6.6']"
      ]
     },
     "execution_count": 172,
     "metadata": {},
     "output_type": "execute_result"
    }
   ],
   "source": [
    "re.findall(r'(CCAwildfirecharge 1,013kWhx\\$0.00652 \\$6.6)', page4)"
   ]
  },
  {
   "cell_type": "code",
   "execution_count": 173,
   "id": "bdc56259-dc19-4890-b03c-b1d4148d49e9",
   "metadata": {},
   "outputs": [
    {
     "data": {
      "text/plain": [
       "[('Baselinecredit', '495', '-$0.08798', '-$43.55'),\n",
       " ('PCIA', '1,013', '$0.00371', '$3.76'),\n",
       " ('DWRadjustment', '1,013', '-$0.00208', '-$2.11'),\n",
       " ('CTC', '1,013', '-$0.00020', '-$0.20'),\n",
       " ('Fixedrecoverycharge', '1,013', '$0.00096', '$0.97')]"
      ]
     },
     "execution_count": 173,
     "metadata": {},
     "output_type": "execute_result"
    }
   ],
   "source": [
    "re.findall(r'(Baselinecredit|PCIA|CCAwildfirefundcharge|CTC|Fixedrecoverycharge|DWR.*) (\\d{1,3}(?:,\\d{3})*)kWhx(-?\\$\\d.?\\d+) (-?\\$\\d+.?\\d+)', page4)"
   ]
  },
  {
   "cell_type": "code",
   "execution_count": 174,
   "id": "e91b76fa-cef2-4aca-bc7d-c180cf00d6a1",
   "metadata": {},
   "outputs": [
    {
     "data": {
      "text/plain": [
       "[('Baselinecredit', '495kWhx-$0.08798 -$43.55'),\n",
       " ('PCIA', '1,013kWhx$0.00371 $3.76'),\n",
       " ('DWRadjustment 1,013kWhx-$0.00208', '-$2.11'),\n",
       " ('CTC', '1,013kWhx-$0.00020 -$0.20'),\n",
       " ('Fixedrecoverycharge', '1,013kWhx$0.00096 $0.97')]"
      ]
     },
     "execution_count": 174,
     "metadata": {},
     "output_type": "execute_result"
    }
   ],
   "source": [
    "re.findall(r'(Baselinecredit|PCIA|CCAwildfirefundcharge|CTC|Fixedrecoverycharge|DWR.*) (.*)', page4)"
   ]
  },
  {
   "cell_type": "code",
   "execution_count": 178,
   "id": "4b14e6d0-3044-4e78-a9d4-ce12efc0d95c",
   "metadata": {},
   "outputs": [
    {
     "data": {
      "text/plain": [
       "[]"
      ]
     },
     "execution_count": 178,
     "metadata": {},
     "output_type": "execute_result"
    }
   ],
   "source": [
    "re.findall(r'(CCAwildfirefundcharge)', 'CCAwildfirecharge')"
   ]
  },
  {
   "cell_type": "code",
   "execution_count": null,
   "id": "7642c1e5-a39d-46ed-a4f5-b8eb8d4c5e1b",
   "metadata": {},
   "outputs": [],
   "source": []
  },
  {
   "cell_type": "code",
   "execution_count": 127,
   "id": "8d1190d7-cd57-47c6-afe0-c876fdf73551",
   "metadata": {},
   "outputs": [
    {
     "data": {
      "text/plain": [
       "[('CleanPower-Total', '1265.2', '0.0846')]"
      ]
     },
     "execution_count": 127,
     "metadata": {},
     "output_type": "execute_result"
    }
   ],
   "source": [
    "re.findall(r'(CleanPower-Total) (1265.2)kWh@(0.0846) \\$107.04', 'CleanPower-Total 1265.2kWh@0.0846 $107.04') "
   ]
  },
  {
   "cell_type": "code",
   "execution_count": 128,
   "id": "0b53e49f-a693-41a5-a0ba-0691b0a7a9d7",
   "metadata": {},
   "outputs": [
    {
     "data": {
      "text/plain": [
       "[('CleanPower-Total', '1265.2', '0.0846')]"
      ]
     },
     "execution_count": 128,
     "metadata": {},
     "output_type": "execute_result"
    }
   ],
   "source": [
    "re.findall(r'(CleanPower-Total) (\\d+\\.?\\d*)kWh@(\\d\\.\\d+) \\$107.04', 'CleanPower-Total 1265.2kWh@0.0846 $107.04') "
   ]
  },
  {
   "cell_type": "code",
   "execution_count": 129,
   "id": "78751aea-feda-4799-a331-bbbb81818467",
   "metadata": {},
   "outputs": [
    {
     "data": {
      "text/plain": [
       "[('CleanPower-Total', '1265.2', '0.0846')]"
      ]
     },
     "execution_count": 129,
     "metadata": {},
     "output_type": "execute_result"
    }
   ],
   "source": [
    "re.findall(r'(CleanPower-Total) (\\d+\\.?\\d*)kWh@(\\d\\.\\d+) \\$\\d+.\\d+', 'CleanPower-Total 1265.2kWh@0.0846 $107.04') "
   ]
  },
  {
   "cell_type": "code",
   "execution_count": 130,
   "id": "4c77d97d-4832-4d8c-bc46-0da8852cb047",
   "metadata": {},
   "outputs": [
    {
     "data": {
      "text/plain": [
       "[('CleanPower-Total', '1265.2', '0.0846')]"
      ]
     },
     "execution_count": 130,
     "metadata": {},
     "output_type": "execute_result"
    }
   ],
   "source": [
    "re.findall(r'(CleanPower-Total) (\\d+\\.?\\d*)kWh@(\\d\\.\\d+) \\$\\d+.\\d+', page5) "
   ]
  },
  {
   "cell_type": "code",
   "execution_count": null,
   "id": "6dc90ec6-2ee2-4846-a81f-d25af2b6f055",
   "metadata": {},
   "outputs": [],
   "source": []
  }
 ],
 "metadata": {
  "kernelspec": {
   "display_name": "Python 3 (ipykernel)",
   "language": "python",
   "name": "python3"
  },
  "language_info": {
   "codemirror_mode": {
    "name": "ipython",
    "version": 3
   },
   "file_extension": ".py",
   "mimetype": "text/x-python",
   "name": "python",
   "nbconvert_exporter": "python",
   "pygments_lexer": "ipython3",
   "version": "3.12.11"
  }
 },
 "nbformat": 4,
 "nbformat_minor": 5
}
